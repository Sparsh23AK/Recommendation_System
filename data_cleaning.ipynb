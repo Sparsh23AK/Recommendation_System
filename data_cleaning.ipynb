{
 "cells": [
  {
   "cell_type": "code",
   "execution_count": 5,
   "id": "1daffd42-7a8e-43ba-8131-cfec8bbd4606",
   "metadata": {},
   "outputs": [
    {
     "name": "stdout",
     "output_type": "stream",
     "text": [
      "Original dataset shape: (568454, 10)\n"
     ]
    }
   ],
   "source": [
    "import pandas as pd\n",
    "import numpy as np\n",
    "\n",
    "# Load the original dataset\n",
    "original_df = pd.read_csv(r'D:\\DATA SCIENCE\\Amazon Data Set\\Reviews.csv')\n",
    "print(\"Original dataset shape:\", original_df.shape)"
   ]
  },
  {
   "cell_type": "code",
   "execution_count": 9,
   "id": "feb30e9e-6dab-4d95-9893-170ff956cb58",
   "metadata": {},
   "outputs": [],
   "source": [
    "# Creating a copy for cleaning\n",
    "cleaned_df = original_df.copy()\n",
    "\n",
    "# 1. Handling missing values\n",
    "cleaned_df['ProfileName'] = cleaned_df['ProfileName'].fillna('Unknown')\n",
    "cleaned_df['Summary'] = cleaned_df['Summary'].fillna('')\n",
    "\n",
    "# 2. Converting Unix timestamp to datetime\n",
    "cleaned_df['Time'] = pd.to_datetime(cleaned_df['Time'], unit='s') \n",
    "\n",
    "# 3. Filter sparse users/items\n",
    "user_counts = cleaned_df['UserId'].value_counts()\n",
    "product_counts = cleaned_df['ProductId'].value_counts()\n",
    "cleaned_df = cleaned_df[\n",
    "    cleaned_df['UserId'].isin(user_counts[user_counts >=5].index) &\n",
    "    cleaned_df['ProductId'].isin(product_counts[product_counts >=5].index)\n",
    "]\n",
    "\n",
    "# 4. Creating helpfulness ratio\n",
    "cleaned_df['HelpfulnessRatio'] = cleaned_df['HelpfulnessNumerator'] / (cleaned_df['HelpfulnessDenominator'] + 1e-6)\n",
    "\n",
    "# 5. Reseting index\n",
    "cleaned_df = cleaned_df.reset_index(drop=True)\n",
    "\n"
   ]
  },
  {
   "cell_type": "code",
   "execution_count": 13,
   "id": "ef2c9f91-fd34-4fb4-8162-300285672d94",
   "metadata": {},
   "outputs": [
    {
     "name": "stdout",
     "output_type": "stream",
     "text": [
      "Cleaned dataset saved. New shape: (219540, 11)\n"
     ]
    }
   ],
   "source": [
    "# cleaned data to a NEW CSV\n",
    "cleaned_df.to_csv(r'D:\\DATA SCIENCE\\Amazon Data Set\\cleaned_amazon_reviews.csv', index=False)\n",
    "print(\"Cleaned dataset saved. New shape:\", cleaned_df.shape)"
   ]
  },
  {
   "cell_type": "code",
   "execution_count": 17,
   "id": "294801bd-2a33-4be8-97fb-1b33f6346189",
   "metadata": {},
   "outputs": [
    {
     "name": "stdout",
     "output_type": "stream",
     "text": [
      "datetime64[ns]\n"
     ]
    },
    {
     "data": {
      "text/html": [
       "<div>\n",
       "<style scoped>\n",
       "    .dataframe tbody tr th:only-of-type {\n",
       "        vertical-align: middle;\n",
       "    }\n",
       "\n",
       "    .dataframe tbody tr th {\n",
       "        vertical-align: top;\n",
       "    }\n",
       "\n",
       "    .dataframe thead th {\n",
       "        text-align: right;\n",
       "    }\n",
       "</style>\n",
       "<table border=\"1\" class=\"dataframe\">\n",
       "  <thead>\n",
       "    <tr style=\"text-align: right;\">\n",
       "      <th></th>\n",
       "      <th>Time</th>\n",
       "      <th>Score</th>\n",
       "      <th>HelpfulnessRatio</th>\n",
       "    </tr>\n",
       "  </thead>\n",
       "  <tbody>\n",
       "    <tr>\n",
       "      <th>0</th>\n",
       "      <td>2010-11-05</td>\n",
       "      <td>4</td>\n",
       "      <td>1.0</td>\n",
       "    </tr>\n",
       "    <tr>\n",
       "      <th>1</th>\n",
       "      <td>2010-03-12</td>\n",
       "      <td>5</td>\n",
       "      <td>0.8</td>\n",
       "    </tr>\n",
       "    <tr>\n",
       "      <th>2</th>\n",
       "      <td>2011-12-23</td>\n",
       "      <td>5</td>\n",
       "      <td>0.0</td>\n",
       "    </tr>\n",
       "    <tr>\n",
       "      <th>3</th>\n",
       "      <td>2006-11-13</td>\n",
       "      <td>4</td>\n",
       "      <td>1.0</td>\n",
       "    </tr>\n",
       "    <tr>\n",
       "      <th>4</th>\n",
       "      <td>2011-09-28</td>\n",
       "      <td>5</td>\n",
       "      <td>0.0</td>\n",
       "    </tr>\n",
       "  </tbody>\n",
       "</table>\n",
       "</div>"
      ],
      "text/plain": [
       "        Time  Score  HelpfulnessRatio\n",
       "0 2010-11-05      4               1.0\n",
       "1 2010-03-12      5               0.8\n",
       "2 2011-12-23      5               0.0\n",
       "3 2006-11-13      4               1.0\n",
       "4 2011-09-28      5               0.0"
      ]
     },
     "execution_count": 17,
     "metadata": {},
     "output_type": "execute_result"
    }
   ],
   "source": [
    "# Loading the cleaned CSV\n",
    "cleaned_df = pd.read_csv(r'D:\\DATA SCIENCE\\Amazon Data Set\\cleaned_amazon_reviews.csv', parse_dates=['Time'])\n",
    "print(cleaned_df['Time'].dtype)  # Should show \"datetime64[ns]\"\n",
    "cleaned_df[['Time', 'Score', 'HelpfulnessRatio']].head()"
   ]
  },
  {
   "cell_type": "code",
   "execution_count": null,
   "id": "4ad46937-5227-49b7-9166-911949299b16",
   "metadata": {},
   "outputs": [],
   "source": []
  },
  {
   "cell_type": "code",
   "execution_count": null,
   "id": "68def080-e22b-4a20-8769-54c49e44945e",
   "metadata": {},
   "outputs": [],
   "source": []
  }
 ],
 "metadata": {
  "kernelspec": {
   "display_name": "Python [conda env:base] *",
   "language": "python",
   "name": "conda-base-py"
  },
  "language_info": {
   "codemirror_mode": {
    "name": "ipython",
    "version": 3
   },
   "file_extension": ".py",
   "mimetype": "text/x-python",
   "name": "python",
   "nbconvert_exporter": "python",
   "pygments_lexer": "ipython3",
   "version": "3.12.3"
  }
 },
 "nbformat": 4,
 "nbformat_minor": 5
}
