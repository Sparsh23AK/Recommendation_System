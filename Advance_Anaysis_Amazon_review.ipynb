{
 "cells": [
  {
   "cell_type": "code",
   "execution_count": 18,
   "id": "c4f9616a-e46c-4897-a257-3dec947971bc",
   "metadata": {},
   "outputs": [
    {
     "name": "stdout",
     "output_type": "stream",
     "text": [
      "Initial data: 219,540 reviews\n",
      "Time range: 2000-08-09 to 2012-10-26\n"
     ]
    }
   ],
   "source": [
    "import pandas as pd\n",
    "import numpy as np\n",
    "from surprise import Dataset, Reader, KNNBasic, SVD\n",
    "from sklearn.metrics import mean_squared_error\n",
    "\n",
    "# Load cleaned data\n",
    "df = pd.read_csv(r'D:\\DATA SCIENCE\\Amazon Data Set\\preprocessed_amazon_reviews.csv', \n",
    "                parse_dates=['Time'],\n",
    "                dtype={'UserId': 'str', 'ProductId': 'str'})\n",
    "\n",
    "print(f\"Initial data: {len(df):,} reviews\")\n",
    "print(f\"Time range: {df['Time'].min().date()} to {df['Time'].max().date()}\")"
   ]
  },
  {
   "cell_type": "code",
   "execution_count": 20,
   "id": "d26aa221-c308-4a07-8c9d-e41df66034a1",
   "metadata": {},
   "outputs": [
    {
     "name": "stdout",
     "output_type": "stream",
     "text": [
      "Train: 153,678 reviews (2012-01-23)\n",
      "Test:  65,862 reviews (2012-01-23 onward)\n",
      "Unique users - Train: 18,825, Test: 10,700\n"
     ]
    }
   ],
   "source": [
    "# TEMPORAL SPLIT \n",
    "df = df.sort_values('Time')\n",
    "split_idx = int(0.7 * len(df))\n",
    "train = df.iloc[:split_idx]\n",
    "test = df.iloc[split_idx:]\n",
    "\n",
    "print(f\"Train: {len(train):,} reviews ({train['Time'].max().date()})\")\n",
    "print(f\"Test:  {len(test):,} reviews ({test['Time'].min().date()} onward)\")\n",
    "print(f\"Unique users - Train: {train['UserId'].nunique():,}, Test: {test['UserId'].nunique():,}\")"
   ]
  },
  {
   "cell_type": "code",
   "execution_count": 22,
   "id": "4de40883-c91e-4a14-94e3-0d2016ec1e38",
   "metadata": {},
   "outputs": [
    {
     "name": "stdout",
     "output_type": "stream",
     "text": [
      "Computing the msd similarity matrix...\n",
      "Done computing similarity matrix.\n"
     ]
    },
    {
     "name": "stderr",
     "output_type": "stream",
     "text": [
      "C:\\Users\\Admin\\AppData\\Local\\Temp\\ipykernel_20436\\3809980225.py:15: SettingWithCopyWarning: \n",
      "A value is trying to be set on a copy of a slice from a DataFrame.\n",
      "Try using .loc[row_indexer,col_indexer] = value instead\n",
      "\n",
      "See the caveats in the documentation: https://pandas.pydata.org/pandas-docs/stable/user_guide/indexing.html#returning-a-view-versus-a-copy\n",
      "  test['Pred_CF'] = [algo_cf.predict(uid, iid).est for uid, iid in zip(test['UserId'], test['ProductId'])]\n"
     ]
    },
    {
     "name": "stdout",
     "output_type": "stream",
     "text": [
      "✓ Models trained\n"
     ]
    },
    {
     "name": "stderr",
     "output_type": "stream",
     "text": [
      "C:\\Users\\Admin\\AppData\\Local\\Temp\\ipykernel_20436\\3809980225.py:16: SettingWithCopyWarning: \n",
      "A value is trying to be set on a copy of a slice from a DataFrame.\n",
      "Try using .loc[row_indexer,col_indexer] = value instead\n",
      "\n",
      "See the caveats in the documentation: https://pandas.pydata.org/pandas-docs/stable/user_guide/indexing.html#returning-a-view-versus-a-copy\n",
      "  test['Pred_MF'] = [algo_mf.predict(uid, iid).est for uid, iid in zip(test['UserId'], test['ProductId'])]\n"
     ]
    }
   ],
   "source": [
    "# MODEL TRAINING \n",
    "from surprise import accuracy\n",
    "\n",
    "# Collaborative Filtering (User-Based)\n",
    "reader = Reader(rating_scale=(1,5))\n",
    "data = Dataset.load_from_df(train[['UserId','ProductId','Score']], reader)\n",
    "algo_cf = KNNBasic(sim_options={'user_based': True})\n",
    "algo_cf.fit(data.build_full_trainset())\n",
    "\n",
    "# Matrix Factorization (SVD)\n",
    "algo_mf = SVD()\n",
    "algo_mf.fit(data.build_full_trainset())\n",
    "\n",
    "# Add predictions to test data\n",
    "test['Pred_CF'] = [algo_cf.predict(uid, iid).est for uid, iid in zip(test['UserId'], test['ProductId'])]\n",
    "test['Pred_MF'] = [algo_mf.predict(uid, iid).est for uid, iid in zip(test['UserId'], test['ProductId'])]\n",
    "\n",
    "print(\"✓ Models trained\")"
   ]
  },
  {
   "cell_type": "code",
   "execution_count": 24,
   "id": "7935f704-37c1-4aff-889f-4ad4bcf6e844",
   "metadata": {},
   "outputs": [
    {
     "name": "stdout",
     "output_type": "stream",
     "text": [
      "\n",
      "Collaborative Filtering:\n",
      "- RMSE: 1.282\n",
      "- Precision@10: 0.757\n",
      "\n",
      "Matrix Factorization:\n",
      "- RMSE: 1.236\n",
      "- Precision@10: 0.761\n",
      "\n"
     ]
    },
    {
     "name": "stderr",
     "output_type": "stream",
     "text": [
      "C:\\Users\\Admin\\AppData\\Local\\Temp\\ipykernel_20436\\237021939.py:4: SettingWithCopyWarning: \n",
      "A value is trying to be set on a copy of a slice from a DataFrame.\n",
      "Try using .loc[row_indexer,col_indexer] = value instead\n",
      "\n",
      "See the caveats in the documentation: https://pandas.pydata.org/pandas-docs/stable/user_guide/indexing.html#returning-a-view-versus-a-copy\n",
      "  df['Rank'] = df.groupby('UserId')[model_col].rank(ascending=False)\n",
      "C:\\Users\\Admin\\AppData\\Local\\Temp\\ipykernel_20436\\237021939.py:4: SettingWithCopyWarning: \n",
      "A value is trying to be set on a copy of a slice from a DataFrame.\n",
      "Try using .loc[row_indexer,col_indexer] = value instead\n",
      "\n",
      "See the caveats in the documentation: https://pandas.pydata.org/pandas-docs/stable/user_guide/indexing.html#returning-a-view-versus-a-copy\n",
      "  df['Rank'] = df.groupby('UserId')[model_col].rank(ascending=False)\n"
     ]
    }
   ],
   "source": [
    "# BASE MODEL RESULTS\n",
    "def precision_at_k(df, model_col, k=10, relevance_threshold=4):\n",
    "    # Rank items for each user\n",
    "    df['Rank'] = df.groupby('UserId')[model_col].rank(ascending=False)\n",
    "    # Filter top-k items\n",
    "    top_k = df[df['Rank'] <= k]\n",
    "    # Calculating precision (fraction of relevant items)\n",
    "    precision = (top_k['Score'] >= relevance_threshold).mean()\n",
    "    return precision\n",
    "\n",
    "# RMSE Calculations\n",
    "rmse_cf = np.sqrt(mean_squared_error(test['Score'], test['Pred_CF']))\n",
    "rmse_mf = np.sqrt(mean_squared_error(test['Score'], test['Pred_MF']))\n",
    "\n",
    "# Precision@10 Calculation\n",
    "precision_cf = precision_at_k(test, 'Pred_CF', k=10)\n",
    "precision_mf = precision_at_k(test, 'Pred_MF', k=10)\n",
    "\n",
    "print(f\"\"\"\n",
    "Collaborative Filtering:\n",
    "- RMSE: {rmse_cf:.3f}\n",
    "- Precision@10: {precision_cf:.3f}\n",
    "\n",
    "Matrix Factorization:\n",
    "- RMSE: {rmse_mf:.3f}\n",
    "- Precision@10: {precision_mf:.3f}\n",
    "\"\"\")"
   ]
  },
  {
   "cell_type": "code",
   "execution_count": 26,
   "id": "e919f7f4-ef57-4250-86bb-1dd112df7e71",
   "metadata": {},
   "outputs": [
    {
     "name": "stderr",
     "output_type": "stream",
     "text": [
      "C:\\Users\\Admin\\AppData\\Local\\Temp\\ipykernel_20436\\2435952095.py:6: SettingWithCopyWarning: \n",
      "A value is trying to be set on a copy of a slice from a DataFrame.\n",
      "Try using .loc[row_indexer,col_indexer] = value instead\n",
      "\n",
      "See the caveats in the documentation: https://pandas.pydata.org/pandas-docs/stable/user_guide/indexing.html#returning-a-view-versus-a-copy\n",
      "  test['Sentiment'] = test['CleanText'].apply(lambda x: sia.polarity_scores(x)['compound'])\n",
      "C:\\Users\\Admin\\AppData\\Local\\Temp\\ipykernel_20436\\2435952095.py:7: SettingWithCopyWarning: \n",
      "A value is trying to be set on a copy of a slice from a DataFrame.\n",
      "Try using .loc[row_indexer,col_indexer] = value instead\n",
      "\n",
      "See the caveats in the documentation: https://pandas.pydata.org/pandas-docs/stable/user_guide/indexing.html#returning-a-view-versus-a-copy\n",
      "  test['SentimentScore'] = np.interp(test['Sentiment'], [-1,1], [1,5])\n",
      "C:\\Users\\Admin\\AppData\\Local\\Temp\\ipykernel_20436\\2435952095.py:10: SettingWithCopyWarning: \n",
      "A value is trying to be set on a copy of a slice from a DataFrame.\n",
      "Try using .loc[row_indexer,col_indexer] = value instead\n",
      "\n",
      "See the caveats in the documentation: https://pandas.pydata.org/pandas-docs/stable/user_guide/indexing.html#returning-a-view-versus-a-copy\n",
      "  test['HybridScore'] = 0.6*test['Pred_CF'] + 0.3*test['SentimentScore'] + 0.1*test['HelpfulnessRatio']\n"
     ]
    }
   ],
   "source": [
    "# HYBRID MODEL\n",
    "from nltk.sentiment import SentimentIntensityAnalyzer\n",
    "\n",
    "# Sentiment Analysis\n",
    "sia = SentimentIntensityAnalyzer()\n",
    "test['Sentiment'] = test['CleanText'].apply(lambda x: sia.polarity_scores(x)['compound'])\n",
    "test['SentimentScore'] = np.interp(test['Sentiment'], [-1,1], [1,5])\n",
    "\n",
    "# Hybrid Scoring\n",
    "test['HybridScore'] = 0.6*test['Pred_CF'] + 0.3*test['SentimentScore'] + 0.1*test['HelpfulnessRatio']"
   ]
  },
  {
   "cell_type": "code",
   "execution_count": 27,
   "id": "97e6b83c-5afe-4dba-a984-d577ca9866f6",
   "metadata": {},
   "outputs": [
    {
     "name": "stdout",
     "output_type": "stream",
     "text": [
      "\n",
      "Hybrid Model (CF + Sentiment):\n",
      "- RMSE: 1.215 (↓ vs CF)\n",
      "- Precision@10: 0.761 (↑ vs CF)\n",
      "\n"
     ]
    },
    {
     "name": "stderr",
     "output_type": "stream",
     "text": [
      "C:\\Users\\Admin\\AppData\\Local\\Temp\\ipykernel_20436\\237021939.py:4: SettingWithCopyWarning: \n",
      "A value is trying to be set on a copy of a slice from a DataFrame.\n",
      "Try using .loc[row_indexer,col_indexer] = value instead\n",
      "\n",
      "See the caveats in the documentation: https://pandas.pydata.org/pandas-docs/stable/user_guide/indexing.html#returning-a-view-versus-a-copy\n",
      "  df['Rank'] = df.groupby('UserId')[model_col].rank(ascending=False)\n"
     ]
    }
   ],
   "source": [
    "# HYBRID RESULTS\n",
    "hybrid_rmse = np.sqrt(mean_squared_error(test['Score'], test['HybridScore']))\n",
    "hybrid_precision = precision_at_k(test, 'HybridScore', k=10)\n",
    "\n",
    "print(f\"\"\"\n",
    "Hybrid Model (CF + Sentiment):\n",
    "- RMSE: {hybrid_rmse:.3f} ({'↑' if hybrid_rmse>rmse_cf else '↓'} vs CF)\n",
    "- Precision@10: {hybrid_precision:.3f} ({'↑' if hybrid_precision>precision_cf else '↓'} vs CF)\n",
    "\"\"\")"
   ]
  },
  {
   "cell_type": "code",
   "execution_count": 30,
   "id": "743b308c-146d-4ffa-ab7d-d9123d48e147",
   "metadata": {},
   "outputs": [
    {
     "name": "stdout",
     "output_type": "stream",
     "text": [
      "Cold-start users: 33,061/65,862 (50.2%)\n",
      "\n",
      "Cold-Start RMSE:\n",
      "- CF Only:     1.324\n",
      "- Hybrid:      1.274 (↓)\n",
      "\n"
     ]
    }
   ],
   "source": [
    "# COLD-START ANALYSIS\n",
    "cold_users = test[~test['UserId'].isin(train['UserId'])]\n",
    "\n",
    "print(f\"Cold-start users: {len(cold_users):,}/{len(test):,} ({len(cold_users)/len(test):.1%})\")\n",
    "\n",
    "# CF Performance\n",
    "cf_cold_rmse = np.sqrt(mean_squared_error(cold_users['Score'], cold_users['Pred_CF']))\n",
    "\n",
    "# Hybrid Performance\n",
    "hybrid_cold_rmse = np.sqrt(mean_squared_error(cold_users['Score'], cold_users['HybridScore']))\n",
    "\n",
    "print(f\"\"\"\n",
    "Cold-Start RMSE:\n",
    "- CF Only:     {cf_cold_rmse:.3f}\n",
    "- Hybrid:      {hybrid_cold_rmse:.3f} ({'↑' if hybrid_cold_rmse>cf_cold_rmse else '↓'})\n",
    "\"\"\")"
   ]
  },
  {
   "cell_type": "code",
   "execution_count": 32,
   "id": "471fd25d-90db-457f-b6ab-a549b521eda0",
   "metadata": {},
   "outputs": [
    {
     "data": {
      "image/png": "[encoded data removed]",
      "text/plain": [
       "<Figure size 1000x500 with 1 Axes>"
      ]
     },
     "metadata": {},
     "output_type": "display_data"
    }
   ],
   "source": [
    "# VISUALIZATION\n",
    "import matplotlib.pyplot as plt\n",
    "\n",
    "models = ['CF', 'MF', 'Hybrid']\n",
    "rmse_values = [rmse_cf, rmse_mf, hybrid_rmse]\n",
    "\n",
    "plt.figure(figsize=(10,5))\n",
    "plt.bar(models, rmse_values, color=['blue', 'orange', 'green'])\n",
    "plt.title('RMSE Comparison')\n",
    "plt.ylabel('RMSE (Lower is Better)')\n",
    "plt.show()"
   ]
  },
  {
   "cell_type": "code",
   "execution_count": null,
   "id": "8c278562-bb84-42bb-8ad4-6bcc2fca723c",
   "metadata": {},
   "outputs": [],
   "source": []
  }
 ],
 "metadata": {
  "kernelspec": {
   "display_name": "Python [conda env:base] *",
   "language": "python",
   "name": "conda-base-py"
  },
  "language_info": {
   "codemirror_mode": {
    "name": "ipython",
    "version": 3
   },
   "file_extension": ".py",
   "mimetype": "text/x-python",
   "name": "python",
   "nbconvert_exporter": "python",
   "pygments_lexer": "ipython3",
   "version": "3.12.3"
  }
 },
 "nbformat": 4,
 "nbformat_minor": 5
}
